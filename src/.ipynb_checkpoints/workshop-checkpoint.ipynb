{
 "cells": [
  {
   "cell_type": "markdown",
   "metadata": {},
   "source": [
    "# AI Fundamentals: Hands-on workshop on Data Wrangling\n",
    "\n",
    "## Tissue segmentation and stain normalisation"
   ]
  },
  {
   "cell_type": "markdown",
   "metadata": {},
   "source": [
    "add some introdiction"
   ]
  },
  {
   "cell_type": "code",
   "execution_count": 10,
   "metadata": {},
   "outputs": [],
   "source": [
    "from gen_tissue_mask import *\n",
    "from extract_patches import *\n",
    "from normalise_tiles import *"
   ]
  },
  {
   "cell_type": "code",
   "execution_count": 12,
   "metadata": {},
   "outputs": [],
   "source": [
    "wsi_path = '/home/simon/Desktop/stain_norm/wsi'\n",
    "output_tissue_dir = '/home/simon/Desktop/stain_repo/src/tissueMask/'\n",
    "output_patches_dir = '/home/simon/Desktop/stain_repo/src/patches/'\n",
    "\n",
    "sn_input_path = output_patches_dir\n",
    "sn_output_dir = '/home/simon/Desktop/stain_repo/src/sn_patches/'"
   ]
  },
  {
   "cell_type": "code",
   "execution_count": 3,
   "metadata": {
    "scrolled": false
   },
   "outputs": [
    {
     "name": "stdout",
     "output_type": "stream",
     "text": [
      "Generating tissue mask for TCGA-A6-5662-01Z-00-DX1.82569684-1c31-4346-af9b-c296a020f624.svs\n"
     ]
    }
   ],
   "source": [
    "gen_tissue_mask(wsi_input='/home/simon/Desktop/stain_norm/wsi',\n",
    "                output_dir=output_tissue_dir,\n",
    "                file_name_pattern='*.svs',\n",
    "                num_cpu=4,\n",
    "                tiss_level=5)"
   ]
  },
  {
   "cell_type": "code",
   "execution_count": 6,
   "metadata": {},
   "outputs": [
    {
     "data": {
      "image/png": "[encoded data removed]",
      "text/plain": [
       "<Figure size 432x288 with 1 Axes>"
      ]
     },
     "metadata": {
      "needs_background": "light"
     },
     "output_type": "display_data"
    }
   ],
   "source": [
    "# Show the tissue masks\n",
    "\n",
    "import matplotlib.pyplot as plt \n",
    "\n",
    "list_masks = glob.glob(output_tissue_dir + '/*')\n",
    "for tissue_mask_dir  in list_masks:\n",
    "    tissue_mask = cv2.imread(tissue_mask_dir + '/Tissue.png', 0)\n",
    "    plt.imshow(tissue_mask)\n",
    "    plt.axis('off')\n",
    "    plt.show()\n",
    "    "
   ]
  },
  {
   "cell_type": "code",
   "execution_count": 11,
   "metadata": {},
   "outputs": [
    {
     "name": "stdout",
     "output_type": "stream",
     "text": [
      "/home/simon/Desktop/stain_norm/wsi/TCGA-A6-5662-01Z-00-DX1.82569684-1c31-4346-af9b-c296a020f624.svs\n",
      "Tile0:  start_w:16000, end_w:18000, start_h:70000, end_h:72000, width:2000, height:2000\n",
      "Tile1:  start_w:8000, end_w:10000, start_h:20000, end_h:22000, width:2000, height:2000\n",
      "Tile2:  start_w:12000, end_w:14000, start_h:14000, end_h:16000, width:2000, height:2000\n",
      "Tile3:  start_w:8000, end_w:10000, start_h:58000, end_h:60000, width:2000, height:2000\n",
      "Tile4:  start_w:6000, end_w:8000, start_h:62000, end_h:64000, width:2000, height:2000\n",
      "Tile5:  start_w:10000, end_w:12000, start_h:18000, end_h:20000, width:2000, height:2000\n"
     ]
    }
   ],
   "source": [
    "extract_patches('/home/simon/Desktop/stain_norm/wsi',\n",
    "        output_dir=output_patches_dir,\n",
    "        file_name_pattern='*.svs',\n",
    "        num_cpu=4,\n",
    "        tile_objective_value=20,\n",
    "        tile_read_size_w=1000,\n",
    "        tile_read_size_h=1000,\n",
    "        nr_tiles=6,\n",
    "        tiss_level=4,\n",
    "        use_tiss_mask=True,\n",
    "        tiss_cutoff = 0.1\n",
    "        )"
   ]
  },
  {
   "cell_type": "code",
   "execution_count": null,
   "metadata": {},
   "outputs": [],
   "source": []
  }
 ],
 "metadata": {
  "kernelspec": {
   "display_name": "Python [conda env:tiatoolbox] *",
   "language": "python",
   "name": "conda-env-tiatoolbox-py"
  },
  "language_info": {
   "codemirror_mode": {
    "name": "ipython",
    "version": 3
   },
   "file_extension": ".py",
   "mimetype": "text/x-python",
   "name": "python",
   "nbconvert_exporter": "python",
   "pygments_lexer": "ipython3",
   "version": "3.6.10"
  }
 },
 "nbformat": 4,
 "nbformat_minor": 2
}
